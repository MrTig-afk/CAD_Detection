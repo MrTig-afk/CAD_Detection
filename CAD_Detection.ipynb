{
  "cells": [
    {
      "cell_type": "code",
      "execution_count": null,
      "metadata": {
        "id": "RR-LjHcYFE_x"
      },
      "outputs": [],
      "source": [
        "import sklearn.datasets\n",
        "import numpy as np\n",
        "import pandas as pd\n",
        "import matplotlib.pyplot as plt\n",
        "import seaborn as sns\n",
        "import warnings\n",
        "\n",
        "from sklearn.model_selection import train_test_split\n",
        "from sklearn.ensemble import RandomForestClassifier, BaggingClassifier, AdaBoostClassifier\n",
        "from sklearn.metrics import accuracy_score, precision_score, recall_score, confusion_matrix, classification_report\n",
        "from sklearn.linear_model import LogisticRegression\n",
        "from sklearn.tree import DecisionTreeClassifier\n",
        "from sklearn.neighbors import KNeighborsClassifier\n",
        "from sklearn.svm import SVC\n",
        "from sklearn.metrics import f1_score\n",
        "from sklearn.model_selection import KFold"
      ]
    },
    {
      "cell_type": "code",
      "source": [
        "from google.colab import drive\n",
        "drive.mount('/content/drive')"
      ],
      "metadata": {
        "id": "DyeqTqdz8pqX",
        "colab": {
          "base_uri": "https://localhost:8080/"
        },
        "outputId": "135c5cee-8d0a-41c3-c303-9bff2bb77d91"
      },
      "execution_count": null,
      "outputs": [
        {
          "output_type": "stream",
          "name": "stdout",
          "text": [
            "Mounted at /content/drive\n"
          ]
        }
      ]
    },
    {
      "cell_type": "code",
      "execution_count": null,
      "metadata": {
        "id": "7KeNxH4LFtGt"
      },
      "outputs": [],
      "source": [
        "path=\"/content/drive/MyDrive/Final Project/Final Project/Dataset/heart.csv\"\n",
        "data=  pd.read_csv(path)"
      ]
    },
    {
      "cell_type": "code",
      "execution_count": null,
      "metadata": {
        "id": "gPb6XQoaGSE6",
        "colab": {
          "base_uri": "https://localhost:8080/",
          "height": 423
        },
        "outputId": "1497f47d-ac66-4eaf-f90f-5d400d95cc98"
      },
      "outputs": [
        {
          "output_type": "execute_result",
          "data": {
            "text/plain": [
              "      age  sex  cp  trestbps  chol  fbs  restecg  thalach  exang  oldpeak  \\\n",
              "0      52    1   0       125   212    0        1      168      0      1.0   \n",
              "1      53    1   0       140   203    1        0      155      1      3.1   \n",
              "2      70    1   0       145   174    0        1      125      1      2.6   \n",
              "3      61    1   0       148   203    0        1      161      0      0.0   \n",
              "4      62    0   0       138   294    1        1      106      0      1.9   \n",
              "...   ...  ...  ..       ...   ...  ...      ...      ...    ...      ...   \n",
              "1020   59    1   1       140   221    0        1      164      1      0.0   \n",
              "1021   60    1   0       125   258    0        0      141      1      2.8   \n",
              "1022   47    1   0       110   275    0        0      118      1      1.0   \n",
              "1023   50    0   0       110   254    0        0      159      0      0.0   \n",
              "1024   54    1   0       120   188    0        1      113      0      1.4   \n",
              "\n",
              "      slope  ca  thal  target  \n",
              "0         2   2     3       0  \n",
              "1         0   0     3       0  \n",
              "2         0   0     3       0  \n",
              "3         2   1     3       0  \n",
              "4         1   3     2       0  \n",
              "...     ...  ..   ...     ...  \n",
              "1020      2   0     2       1  \n",
              "1021      1   1     3       0  \n",
              "1022      1   1     2       0  \n",
              "1023      2   0     2       1  \n",
              "1024      1   1     3       0  \n",
              "\n",
              "[1025 rows x 14 columns]"
            ],
            "text/html": [
              "\n",
              "  <div id=\"df-2a06bd31-4faa-4acf-90be-424379feb941\" class=\"colab-df-container\">\n",
              "    <div>\n",
              "<style scoped>\n",
              "    .dataframe tbody tr th:only-of-type {\n",
              "        vertical-align: middle;\n",
              "    }\n",
              "\n",
              "    .dataframe tbody tr th {\n",
              "        vertical-align: top;\n",
              "    }\n",
              "\n",
              "    .dataframe thead th {\n",
              "        text-align: right;\n",
              "    }\n",
              "</style>\n",
              "<table border=\"1\" class=\"dataframe\">\n",
              "  <thead>\n",
              "    <tr style=\"text-align: right;\">\n",
              "      <th></th>\n",
              "      <th>age</th>\n",
              "      <th>sex</th>\n",
              "      <th>cp</th>\n",
              "      <th>trestbps</th>\n",
              "      <th>chol</th>\n",
              "      <th>fbs</th>\n",
              "      <th>restecg</th>\n",
              "      <th>thalach</th>\n",
              "      <th>exang</th>\n",
              "      <th>oldpeak</th>\n",
              "      <th>slope</th>\n",
              "      <th>ca</th>\n",
              "      <th>thal</th>\n",
              "      <th>target</th>\n",
              "    </tr>\n",
              "  </thead>\n",
              "  <tbody>\n",
              "    <tr>\n",
              "      <th>0</th>\n",
              "      <td>52</td>\n",
              "      <td>1</td>\n",
              "      <td>0</td>\n",
              "      <td>125</td>\n",
              "      <td>212</td>\n",
              "      <td>0</td>\n",
              "      <td>1</td>\n",
              "      <td>168</td>\n",
              "      <td>0</td>\n",
              "      <td>1.0</td>\n",
              "      <td>2</td>\n",
              "      <td>2</td>\n",
              "      <td>3</td>\n",
              "      <td>0</td>\n",
              "    </tr>\n",
              "    <tr>\n",
              "      <th>1</th>\n",
              "      <td>53</td>\n",
              "      <td>1</td>\n",
              "      <td>0</td>\n",
              "      <td>140</td>\n",
              "      <td>203</td>\n",
              "      <td>1</td>\n",
              "      <td>0</td>\n",
              "      <td>155</td>\n",
              "      <td>1</td>\n",
              "      <td>3.1</td>\n",
              "      <td>0</td>\n",
              "      <td>0</td>\n",
              "      <td>3</td>\n",
              "      <td>0</td>\n",
              "    </tr>\n",
              "    <tr>\n",
              "      <th>2</th>\n",
              "      <td>70</td>\n",
              "      <td>1</td>\n",
              "      <td>0</td>\n",
              "      <td>145</td>\n",
              "      <td>174</td>\n",
              "      <td>0</td>\n",
              "      <td>1</td>\n",
              "      <td>125</td>\n",
              "      <td>1</td>\n",
              "      <td>2.6</td>\n",
              "      <td>0</td>\n",
              "      <td>0</td>\n",
              "      <td>3</td>\n",
              "      <td>0</td>\n",
              "    </tr>\n",
              "    <tr>\n",
              "      <th>3</th>\n",
              "      <td>61</td>\n",
              "      <td>1</td>\n",
              "      <td>0</td>\n",
              "      <td>148</td>\n",
              "      <td>203</td>\n",
              "      <td>0</td>\n",
              "      <td>1</td>\n",
              "      <td>161</td>\n",
              "      <td>0</td>\n",
              "      <td>0.0</td>\n",
              "      <td>2</td>\n",
              "      <td>1</td>\n",
              "      <td>3</td>\n",
              "      <td>0</td>\n",
              "    </tr>\n",
              "    <tr>\n",
              "      <th>4</th>\n",
              "      <td>62</td>\n",
              "      <td>0</td>\n",
              "      <td>0</td>\n",
              "      <td>138</td>\n",
              "      <td>294</td>\n",
              "      <td>1</td>\n",
              "      <td>1</td>\n",
              "      <td>106</td>\n",
              "      <td>0</td>\n",
              "      <td>1.9</td>\n",
              "      <td>1</td>\n",
              "      <td>3</td>\n",
              "      <td>2</td>\n",
              "      <td>0</td>\n",
              "    </tr>\n",
              "    <tr>\n",
              "      <th>...</th>\n",
              "      <td>...</td>\n",
              "      <td>...</td>\n",
              "      <td>...</td>\n",
              "      <td>...</td>\n",
              "      <td>...</td>\n",
              "      <td>...</td>\n",
              "      <td>...</td>\n",
              "      <td>...</td>\n",
              "      <td>...</td>\n",
              "      <td>...</td>\n",
              "      <td>...</td>\n",
              "      <td>...</td>\n",
              "      <td>...</td>\n",
              "      <td>...</td>\n",
              "    </tr>\n",
              "    <tr>\n",
              "      <th>1020</th>\n",
              "      <td>59</td>\n",
              "      <td>1</td>\n",
              "      <td>1</td>\n",
              "      <td>140</td>\n",
              "      <td>221</td>\n",
              "      <td>0</td>\n",
              "      <td>1</td>\n",
              "      <td>164</td>\n",
              "      <td>1</td>\n",
              "      <td>0.0</td>\n",
              "      <td>2</td>\n",
              "      <td>0</td>\n",
              "      <td>2</td>\n",
              "      <td>1</td>\n",
              "    </tr>\n",
              "    <tr>\n",
              "      <th>1021</th>\n",
              "      <td>60</td>\n",
              "      <td>1</td>\n",
              "      <td>0</td>\n",
              "      <td>125</td>\n",
              "      <td>258</td>\n",
              "      <td>0</td>\n",
              "      <td>0</td>\n",
              "      <td>141</td>\n",
              "      <td>1</td>\n",
              "      <td>2.8</td>\n",
              "      <td>1</td>\n",
              "      <td>1</td>\n",
              "      <td>3</td>\n",
              "      <td>0</td>\n",
              "    </tr>\n",
              "    <tr>\n",
              "      <th>1022</th>\n",
              "      <td>47</td>\n",
              "      <td>1</td>\n",
              "      <td>0</td>\n",
              "      <td>110</td>\n",
              "      <td>275</td>\n",
              "      <td>0</td>\n",
              "      <td>0</td>\n",
              "      <td>118</td>\n",
              "      <td>1</td>\n",
              "      <td>1.0</td>\n",
              "      <td>1</td>\n",
              "      <td>1</td>\n",
              "      <td>2</td>\n",
              "      <td>0</td>\n",
              "    </tr>\n",
              "    <tr>\n",
              "      <th>1023</th>\n",
              "      <td>50</td>\n",
              "      <td>0</td>\n",
              "      <td>0</td>\n",
              "      <td>110</td>\n",
              "      <td>254</td>\n",
              "      <td>0</td>\n",
              "      <td>0</td>\n",
              "      <td>159</td>\n",
              "      <td>0</td>\n",
              "      <td>0.0</td>\n",
              "      <td>2</td>\n",
              "      <td>0</td>\n",
              "      <td>2</td>\n",
              "      <td>1</td>\n",
              "    </tr>\n",
              "    <tr>\n",
              "      <th>1024</th>\n",
              "      <td>54</td>\n",
              "      <td>1</td>\n",
              "      <td>0</td>\n",
              "      <td>120</td>\n",
              "      <td>188</td>\n",
              "      <td>0</td>\n",
              "      <td>1</td>\n",
              "      <td>113</td>\n",
              "      <td>0</td>\n",
              "      <td>1.4</td>\n",
              "      <td>1</td>\n",
              "      <td>1</td>\n",
              "      <td>3</td>\n",
              "      <td>0</td>\n",
              "    </tr>\n",
              "  </tbody>\n",
              "</table>\n",
              "<p>1025 rows × 14 columns</p>\n",
              "</div>\n",
              "    <div class=\"colab-df-buttons\">\n",
              "\n",
              "  <div class=\"colab-df-container\">\n",
              "    <button class=\"colab-df-convert\" onclick=\"convertToInteractive('df-2a06bd31-4faa-4acf-90be-424379feb941')\"\n",
              "            title=\"Convert this dataframe to an interactive table.\"\n",
              "            style=\"display:none;\">\n",
              "\n",
              "  <svg xmlns=\"http://www.w3.org/2000/svg\" height=\"24px\" viewBox=\"0 -960 960 960\">\n",
              "    <path d=\"M120-120v-720h720v720H120Zm60-500h600v-160H180v160Zm220 220h160v-160H400v160Zm0 220h160v-160H400v160ZM180-400h160v-160H180v160Zm440 0h160v-160H620v160ZM180-180h160v-160H180v160Zm440 0h160v-160H620v160Z\"/>\n",
              "  </svg>\n",
              "    </button>\n",
              "\n",
              "  <style>\n",
              "    .colab-df-container {\n",
              "      display:flex;\n",
              "      gap: 12px;\n",
              "    }\n",
              "\n",
              "    .colab-df-convert {\n",
              "      background-color: #E8F0FE;\n",
              "      border: none;\n",
              "      border-radius: 50%;\n",
              "      cursor: pointer;\n",
              "      display: none;\n",
              "      fill: #1967D2;\n",
              "      height: 32px;\n",
              "      padding: 0 0 0 0;\n",
              "      width: 32px;\n",
              "    }\n",
              "\n",
              "    .colab-df-convert:hover {\n",
              "      background-color: #E2EBFA;\n",
              "      box-shadow: 0px 1px 2px rgba(60, 64, 67, 0.3), 0px 1px 3px 1px rgba(60, 64, 67, 0.15);\n",
              "      fill: #174EA6;\n",
              "    }\n",
              "\n",
              "    .colab-df-buttons div {\n",
              "      margin-bottom: 4px;\n",
              "    }\n",
              "\n",
              "    [theme=dark] .colab-df-convert {\n",
              "      background-color: #3B4455;\n",
              "      fill: #D2E3FC;\n",
              "    }\n",
              "\n",
              "    [theme=dark] .colab-df-convert:hover {\n",
              "      background-color: #434B5C;\n",
              "      box-shadow: 0px 1px 3px 1px rgba(0, 0, 0, 0.15);\n",
              "      filter: drop-shadow(0px 1px 2px rgba(0, 0, 0, 0.3));\n",
              "      fill: #FFFFFF;\n",
              "    }\n",
              "  </style>\n",
              "\n",
              "    <script>\n",
              "      const buttonEl =\n",
              "        document.querySelector('#df-2a06bd31-4faa-4acf-90be-424379feb941 button.colab-df-convert');\n",
              "      buttonEl.style.display =\n",
              "        google.colab.kernel.accessAllowed ? 'block' : 'none';\n",
              "\n",
              "      async function convertToInteractive(key) {\n",
              "        const element = document.querySelector('#df-2a06bd31-4faa-4acf-90be-424379feb941');\n",
              "        const dataTable =\n",
              "          await google.colab.kernel.invokeFunction('convertToInteractive',\n",
              "                                                    [key], {});\n",
              "        if (!dataTable) return;\n",
              "\n",
              "        const docLinkHtml = 'Like what you see? Visit the ' +\n",
              "          '<a target=\"_blank\" href=https://colab.research.google.com/notebooks/data_table.ipynb>data table notebook</a>'\n",
              "          + ' to learn more about interactive tables.';\n",
              "        element.innerHTML = '';\n",
              "        dataTable['output_type'] = 'display_data';\n",
              "        await google.colab.output.renderOutput(dataTable, element);\n",
              "        const docLink = document.createElement('div');\n",
              "        docLink.innerHTML = docLinkHtml;\n",
              "        element.appendChild(docLink);\n",
              "      }\n",
              "    </script>\n",
              "  </div>\n",
              "\n",
              "\n",
              "<div id=\"df-c9d35e00-a8d1-4f34-a82f-7911c200ff63\">\n",
              "  <button class=\"colab-df-quickchart\" onclick=\"quickchart('df-c9d35e00-a8d1-4f34-a82f-7911c200ff63')\"\n",
              "            title=\"Suggest charts\"\n",
              "            style=\"display:none;\">\n",
              "\n",
              "<svg xmlns=\"http://www.w3.org/2000/svg\" height=\"24px\"viewBox=\"0 0 24 24\"\n",
              "     width=\"24px\">\n",
              "    <g>\n",
              "        <path d=\"M19 3H5c-1.1 0-2 .9-2 2v14c0 1.1.9 2 2 2h14c1.1 0 2-.9 2-2V5c0-1.1-.9-2-2-2zM9 17H7v-7h2v7zm4 0h-2V7h2v10zm4 0h-2v-4h2v4z\"/>\n",
              "    </g>\n",
              "</svg>\n",
              "  </button>\n",
              "\n",
              "<style>\n",
              "  .colab-df-quickchart {\n",
              "      --bg-color: #E8F0FE;\n",
              "      --fill-color: #1967D2;\n",
              "      --hover-bg-color: #E2EBFA;\n",
              "      --hover-fill-color: #174EA6;\n",
              "      --disabled-fill-color: #AAA;\n",
              "      --disabled-bg-color: #DDD;\n",
              "  }\n",
              "\n",
              "  [theme=dark] .colab-df-quickchart {\n",
              "      --bg-color: #3B4455;\n",
              "      --fill-color: #D2E3FC;\n",
              "      --hover-bg-color: #434B5C;\n",
              "      --hover-fill-color: #FFFFFF;\n",
              "      --disabled-bg-color: #3B4455;\n",
              "      --disabled-fill-color: #666;\n",
              "  }\n",
              "\n",
              "  .colab-df-quickchart {\n",
              "    background-color: var(--bg-color);\n",
              "    border: none;\n",
              "    border-radius: 50%;\n",
              "    cursor: pointer;\n",
              "    display: none;\n",
              "    fill: var(--fill-color);\n",
              "    height: 32px;\n",
              "    padding: 0;\n",
              "    width: 32px;\n",
              "  }\n",
              "\n",
              "  .colab-df-quickchart:hover {\n",
              "    background-color: var(--hover-bg-color);\n",
              "    box-shadow: 0 1px 2px rgba(60, 64, 67, 0.3), 0 1px 3px 1px rgba(60, 64, 67, 0.15);\n",
              "    fill: var(--button-hover-fill-color);\n",
              "  }\n",
              "\n",
              "  .colab-df-quickchart-complete:disabled,\n",
              "  .colab-df-quickchart-complete:disabled:hover {\n",
              "    background-color: var(--disabled-bg-color);\n",
              "    fill: var(--disabled-fill-color);\n",
              "    box-shadow: none;\n",
              "  }\n",
              "\n",
              "  .colab-df-spinner {\n",
              "    border: 2px solid var(--fill-color);\n",
              "    border-color: transparent;\n",
              "    border-bottom-color: var(--fill-color);\n",
              "    animation:\n",
              "      spin 1s steps(1) infinite;\n",
              "  }\n",
              "\n",
              "  @keyframes spin {\n",
              "    0% {\n",
              "      border-color: transparent;\n",
              "      border-bottom-color: var(--fill-color);\n",
              "      border-left-color: var(--fill-color);\n",
              "    }\n",
              "    20% {\n",
              "      border-color: transparent;\n",
              "      border-left-color: var(--fill-color);\n",
              "      border-top-color: var(--fill-color);\n",
              "    }\n",
              "    30% {\n",
              "      border-color: transparent;\n",
              "      border-left-color: var(--fill-color);\n",
              "      border-top-color: var(--fill-color);\n",
              "      border-right-color: var(--fill-color);\n",
              "    }\n",
              "    40% {\n",
              "      border-color: transparent;\n",
              "      border-right-color: var(--fill-color);\n",
              "      border-top-color: var(--fill-color);\n",
              "    }\n",
              "    60% {\n",
              "      border-color: transparent;\n",
              "      border-right-color: var(--fill-color);\n",
              "    }\n",
              "    80% {\n",
              "      border-color: transparent;\n",
              "      border-right-color: var(--fill-color);\n",
              "      border-bottom-color: var(--fill-color);\n",
              "    }\n",
              "    90% {\n",
              "      border-color: transparent;\n",
              "      border-bottom-color: var(--fill-color);\n",
              "    }\n",
              "  }\n",
              "</style>\n",
              "\n",
              "  <script>\n",
              "    async function quickchart(key) {\n",
              "      const quickchartButtonEl =\n",
              "        document.querySelector('#' + key + ' button');\n",
              "      quickchartButtonEl.disabled = true;  // To prevent multiple clicks.\n",
              "      quickchartButtonEl.classList.add('colab-df-spinner');\n",
              "      try {\n",
              "        const charts = await google.colab.kernel.invokeFunction(\n",
              "            'suggestCharts', [key], {});\n",
              "      } catch (error) {\n",
              "        console.error('Error during call to suggestCharts:', error);\n",
              "      }\n",
              "      quickchartButtonEl.classList.remove('colab-df-spinner');\n",
              "      quickchartButtonEl.classList.add('colab-df-quickchart-complete');\n",
              "    }\n",
              "    (() => {\n",
              "      let quickchartButtonEl =\n",
              "        document.querySelector('#df-c9d35e00-a8d1-4f34-a82f-7911c200ff63 button');\n",
              "      quickchartButtonEl.style.display =\n",
              "        google.colab.kernel.accessAllowed ? 'block' : 'none';\n",
              "    })();\n",
              "  </script>\n",
              "</div>\n",
              "    </div>\n",
              "  </div>\n"
            ],
            "application/vnd.google.colaboratory.intrinsic+json": {
              "type": "dataframe",
              "variable_name": "data",
              "summary": "{\n  \"name\": \"data\",\n  \"rows\": 1025,\n  \"fields\": [\n    {\n      \"column\": \"age\",\n      \"properties\": {\n        \"dtype\": \"number\",\n        \"std\": 9,\n        \"min\": 29,\n        \"max\": 77,\n        \"num_unique_values\": 41,\n        \"samples\": [\n          65,\n          50,\n          54\n        ],\n        \"semantic_type\": \"\",\n        \"description\": \"\"\n      }\n    },\n    {\n      \"column\": \"sex\",\n      \"properties\": {\n        \"dtype\": \"number\",\n        \"std\": 0,\n        \"min\": 0,\n        \"max\": 1,\n        \"num_unique_values\": 2,\n        \"samples\": [\n          0,\n          1\n        ],\n        \"semantic_type\": \"\",\n        \"description\": \"\"\n      }\n    },\n    {\n      \"column\": \"cp\",\n      \"properties\": {\n        \"dtype\": \"number\",\n        \"std\": 1,\n        \"min\": 0,\n        \"max\": 3,\n        \"num_unique_values\": 4,\n        \"samples\": [\n          1,\n          3\n        ],\n        \"semantic_type\": \"\",\n        \"description\": \"\"\n      }\n    },\n    {\n      \"column\": \"trestbps\",\n      \"properties\": {\n        \"dtype\": \"number\",\n        \"std\": 17,\n        \"min\": 94,\n        \"max\": 200,\n        \"num_unique_values\": 49,\n        \"samples\": [\n          128,\n          172\n        ],\n        \"semantic_type\": \"\",\n        \"description\": \"\"\n      }\n    },\n    {\n      \"column\": \"chol\",\n      \"properties\": {\n        \"dtype\": \"number\",\n        \"std\": 51,\n        \"min\": 126,\n        \"max\": 564,\n        \"num_unique_values\": 152,\n        \"samples\": [\n          267,\n          262\n        ],\n        \"semantic_type\": \"\",\n        \"description\": \"\"\n      }\n    },\n    {\n      \"column\": \"fbs\",\n      \"properties\": {\n        \"dtype\": \"number\",\n        \"std\": 0,\n        \"min\": 0,\n        \"max\": 1,\n        \"num_unique_values\": 2,\n        \"samples\": [\n          1,\n          0\n        ],\n        \"semantic_type\": \"\",\n        \"description\": \"\"\n      }\n    },\n    {\n      \"column\": \"restecg\",\n      \"properties\": {\n        \"dtype\": \"number\",\n        \"std\": 0,\n        \"min\": 0,\n        \"max\": 2,\n        \"num_unique_values\": 3,\n        \"samples\": [\n          1,\n          0\n        ],\n        \"semantic_type\": \"\",\n        \"description\": \"\"\n      }\n    },\n    {\n      \"column\": \"thalach\",\n      \"properties\": {\n        \"dtype\": \"number\",\n        \"std\": 23,\n        \"min\": 71,\n        \"max\": 202,\n        \"num_unique_values\": 91,\n        \"samples\": [\n          180,\n          152\n        ],\n        \"semantic_type\": \"\",\n        \"description\": \"\"\n      }\n    },\n    {\n      \"column\": \"exang\",\n      \"properties\": {\n        \"dtype\": \"number\",\n        \"std\": 0,\n        \"min\": 0,\n        \"max\": 1,\n        \"num_unique_values\": 2,\n        \"samples\": [\n          1,\n          0\n        ],\n        \"semantic_type\": \"\",\n        \"description\": \"\"\n      }\n    },\n    {\n      \"column\": \"oldpeak\",\n      \"properties\": {\n        \"dtype\": \"number\",\n        \"std\": 1.175053255150176,\n        \"min\": 0.0,\n        \"max\": 6.2,\n        \"num_unique_values\": 40,\n        \"samples\": [\n          2.8,\n          0.4\n        ],\n        \"semantic_type\": \"\",\n        \"description\": \"\"\n      }\n    },\n    {\n      \"column\": \"slope\",\n      \"properties\": {\n        \"dtype\": \"number\",\n        \"std\": 0,\n        \"min\": 0,\n        \"max\": 2,\n        \"num_unique_values\": 3,\n        \"samples\": [\n          2,\n          0\n        ],\n        \"semantic_type\": \"\",\n        \"description\": \"\"\n      }\n    },\n    {\n      \"column\": \"ca\",\n      \"properties\": {\n        \"dtype\": \"number\",\n        \"std\": 1,\n        \"min\": 0,\n        \"max\": 4,\n        \"num_unique_values\": 5,\n        \"samples\": [\n          0,\n          4\n        ],\n        \"semantic_type\": \"\",\n        \"description\": \"\"\n      }\n    },\n    {\n      \"column\": \"thal\",\n      \"properties\": {\n        \"dtype\": \"number\",\n        \"std\": 0,\n        \"min\": 0,\n        \"max\": 3,\n        \"num_unique_values\": 4,\n        \"samples\": [\n          2,\n          0\n        ],\n        \"semantic_type\": \"\",\n        \"description\": \"\"\n      }\n    },\n    {\n      \"column\": \"target\",\n      \"properties\": {\n        \"dtype\": \"number\",\n        \"std\": 0,\n        \"min\": 0,\n        \"max\": 1,\n        \"num_unique_values\": 2,\n        \"samples\": [\n          1,\n          0\n        ],\n        \"semantic_type\": \"\",\n        \"description\": \"\"\n      }\n    }\n  ]\n}"
            }
          },
          "metadata": {},
          "execution_count": 10
        }
      ],
      "source": [
        "data"
      ]
    },
    {
      "cell_type": "code",
      "execution_count": null,
      "metadata": {
        "id": "yEeL9Me_GYBX",
        "colab": {
          "base_uri": "https://localhost:8080/"
        },
        "outputId": "5c2e7219-0570-43bf-bfbf-129960544479"
      },
      "outputs": [
        {
          "output_type": "execute_result",
          "data": {
            "text/plain": [
              "age         0\n",
              "sex         0\n",
              "cp          0\n",
              "trestbps    0\n",
              "chol        0\n",
              "fbs         0\n",
              "restecg     0\n",
              "thalach     0\n",
              "exang       0\n",
              "oldpeak     0\n",
              "slope       0\n",
              "ca          0\n",
              "thal        0\n",
              "target      0\n",
              "dtype: int64"
            ]
          },
          "metadata": {},
          "execution_count": 11
        }
      ],
      "source": [
        "data.isnull().sum()"
      ]
    },
    {
      "cell_type": "code",
      "execution_count": null,
      "metadata": {
        "id": "4DjsJESp-MoY",
        "colab": {
          "base_uri": "https://localhost:8080/",
          "height": 943
        },
        "outputId": "138c9f3c-b835-45b6-d84f-8968836f5fb6"
      },
      "outputs": [
        {
          "output_type": "display_data",
          "data": {
            "text/plain": [
              "<Figure size 1200x1000 with 4 Axes>"
            ],
            "image/png": "[encoded data removed]"
          },
          "metadata": {}
        }
      ],
      "source": [
        "fig, axes = plt.subplots(nrows=2, ncols=2, figsize=(12, 10))\n",
        "\n",
        "scatter_age_sex = sns.scatterplot(x='age', y='sex', data=data, ax=axes[0, 0], hue='sex', palette={0: 'blue', 1: 'red'})\n",
        "scatter_age_sex.set_xlabel('Age')\n",
        "scatter_age_sex.set_ylabel('Sex (0: Female, 1: Male)')\n",
        "scatter_age_sex.set_title('Scatter Plot of Age vs Sex')\n",
        "scatter_age_sex.spines[['top', 'right']].set_visible(False)\n",
        "scatter_age_sex.legend(loc='center left')\n",
        "\n",
        "data['thal'].plot(kind='hist', bins=20, title='Thal', ax=axes[0, 1])\n",
        "axes[0, 1].spines[['top', 'right']].set_visible(False)\n",
        "\n",
        "data['trestbps'].plot(kind='hist', bins=20, title='trestbps', ax=axes[1, 0])\n",
        "axes[1, 0].spines[['top', 'right']].set_visible(False)\n",
        "\n",
        "scatter_cp_trestbps = sns.scatterplot(x='cp', y='trestbps', data=data, ax=axes[1, 1], hue='cp', palette='viridis')\n",
        "scatter_cp_trestbps.set_xlabel('Chest Pain Type (cp)')\n",
        "scatter_cp_trestbps.set_ylabel('trestbps')\n",
        "scatter_cp_trestbps.set_title('Scatter Plot of cp vs trestbps')\n",
        "\n",
        "plt.tight_layout()\n",
        "plt.show()\n"
      ]
    },
    {
      "cell_type": "code",
      "execution_count": null,
      "metadata": {
        "id": "SgKjS7jFHLDU",
        "colab": {
          "base_uri": "https://localhost:8080/"
        },
        "outputId": "62a37179-c548-4ea9-8489-25b1de5ec6ee"
      },
      "outputs": [
        {
          "output_type": "stream",
          "name": "stdout",
          "text": [
            "   age  sex  cp  trestbps  chol  fbs  restecg  thalach  exang  oldpeak  slope  \\\n",
            "0   52    1   0       125   212    0        1      168      0      1.0      2   \n",
            "1   53    1   0       140   203    1        0      155      1      3.1      0   \n",
            "2   70    1   0       145   174    0        1      125      1      2.6      0   \n",
            "3   61    1   0       148   203    0        1      161      0      0.0      2   \n",
            "4   62    0   0       138   294    1        1      106      0      1.9      1   \n",
            "\n",
            "   ca  thal  target  \n",
            "0   2     3       0  \n",
            "1   0     3       0  \n",
            "2   0     3       0  \n",
            "3   1     3       0  \n",
            "4   3     2       0  \n",
            "(1025, 14)\n",
            "target\n",
            "1    526\n",
            "0    499\n",
            "Name: count, dtype: int64\n"
          ]
        }
      ],
      "source": [
        "print(data.head())\n",
        "print(data.shape)\n",
        "print(data['target'].value_counts())"
      ]
    },
    {
      "cell_type": "markdown",
      "metadata": {
        "id": "T10JYusU-1fg"
      },
      "source": [
        "Train Test Split"
      ]
    },
    {
      "cell_type": "code",
      "execution_count": null,
      "metadata": {
        "id": "e61-hDnzKOne",
        "colab": {
          "base_uri": "https://localhost:8080/"
        },
        "outputId": "cad17e3a-fecf-4cf6-c03b-87149beeb881"
      },
      "outputs": [
        {
          "output_type": "stream",
          "name": "stdout",
          "text": [
            "(1025, 14)\n",
            "(1025, 13)\n",
            "(1025, 1)\n",
            "      target\n",
            "0          0\n",
            "1          0\n",
            "2          0\n",
            "3          0\n",
            "4          0\n",
            "...      ...\n",
            "1020       1\n",
            "1021       0\n",
            "1022       0\n",
            "1023       1\n",
            "1024       0\n",
            "\n",
            "[1025 rows x 1 columns]\n",
            "(717, 13) (308, 13) (717, 1) (308, 1)\n",
            "age          54.334728\n",
            "sex           0.670851\n",
            "cp            0.921897\n",
            "trestbps    131.690377\n",
            "chol        246.640167\n",
            "fbs           0.152022\n",
            "restecg       0.545328\n",
            "thalach     149.377964\n",
            "exang         0.340307\n",
            "oldpeak       1.071967\n",
            "slope         1.386332\n",
            "ca            0.754533\n",
            "thal          2.327755\n",
            "dtype: float64 age          54.665584\n",
            "sex           0.753247\n",
            "cp            0.990260\n",
            "trestbps    131.428571\n",
            "chol        244.509740\n",
            "fbs           0.142857\n",
            "restecg       0.493506\n",
            "thalach     148.500000\n",
            "exang         0.327922\n",
            "oldpeak       1.070455\n",
            "slope         1.383117\n",
            "ca            0.753247\n",
            "thal          2.314935\n",
            "dtype: float64 age          54.434146\n",
            "sex           0.695610\n",
            "cp            0.942439\n",
            "trestbps    131.611707\n",
            "chol        246.000000\n",
            "fbs           0.149268\n",
            "restecg       0.529756\n",
            "thalach     149.114146\n",
            "exang         0.336585\n",
            "oldpeak       1.071512\n",
            "slope         1.385366\n",
            "ca            0.754146\n",
            "thal          2.323902\n",
            "dtype: float64\n"
          ]
        }
      ],
      "source": [
        "newdata=data.dropna(axis=0,how='any')\n",
        "print(newdata.shape)\n",
        "X = data.drop('target', axis=1)\n",
        "Y = data['target']\n",
        "Y=pd.DataFrame(Y)\n",
        "print(X.shape)\n",
        "print(Y.shape)\n",
        "print(Y)\n",
        "type(X)\n",
        "type(Y)\n",
        "X_train, X_test, Y_train, Y_test = train_test_split(X, Y, test_size=0.3, stratify = Y, random_state=1)\n",
        "print(X_train.shape,X_test.shape,Y_train.shape,Y_test.shape)\n",
        "print(X_train.mean(), X_test.mean(), X.mean())"
      ]
    },
    {
      "cell_type": "markdown",
      "metadata": {
        "id": "Lr64UE2ESxZX"
      },
      "source": [
        "Support Vector Classifier- Linear"
      ]
    },
    {
      "cell_type": "code",
      "execution_count": null,
      "metadata": {
        "id": "Z9_M_t7XiLXD",
        "colab": {
          "base_uri": "https://localhost:8080/"
        },
        "outputId": "051ce60c-8fcd-4ef5-c69e-af4437b02db6"
      },
      "outputs": [
        {
          "output_type": "stream",
          "name": "stdout",
          "text": [
            "Metrics Before K-Fold Cross-Validation for SVM-linear:\n",
            "Accuracy = 84.4155844155844\n",
            "Precision = 79.8913043478261\n",
            "Recall = 93.0379746835443\n",
            "F1 = 0.8596491228070176\n",
            "\n",
            "Boosting Classifier with K-Fold Validation\n"
          ]
        },
        {
          "output_type": "stream",
          "name": "stderr",
          "text": [
            "/usr/local/lib/python3.10/dist-packages/sklearn/ensemble/_base.py:166: FutureWarning: `base_estimator` was renamed to `estimator` in version 1.2 and will be removed in 1.4.\n",
            "  warnings.warn(\n"
          ]
        },
        {
          "output_type": "stream",
          "name": "stdout",
          "text": [
            "Fold 1 accuracy: 0.8252427184466019\n",
            "Fold 1 precision: 0.7758620689655172\n",
            "Fold 1 recall: 0.9\n",
            "Fold 1 f1: 0.8333333333333334\n"
          ]
        },
        {
          "output_type": "stream",
          "name": "stderr",
          "text": [
            "/usr/local/lib/python3.10/dist-packages/sklearn/ensemble/_base.py:166: FutureWarning: `base_estimator` was renamed to `estimator` in version 1.2 and will be removed in 1.4.\n",
            "  warnings.warn(\n"
          ]
        },
        {
          "output_type": "stream",
          "name": "stdout",
          "text": [
            "Fold 2 accuracy: 0.8349514563106796\n",
            "Fold 2 precision: 0.8064516129032258\n",
            "Fold 2 recall: 0.9090909090909091\n",
            "Fold 2 f1: 0.8547008547008547\n"
          ]
        },
        {
          "output_type": "stream",
          "name": "stderr",
          "text": [
            "/usr/local/lib/python3.10/dist-packages/sklearn/ensemble/_base.py:166: FutureWarning: `base_estimator` was renamed to `estimator` in version 1.2 and will be removed in 1.4.\n",
            "  warnings.warn(\n"
          ]
        },
        {
          "output_type": "stream",
          "name": "stdout",
          "text": [
            "Fold 3 accuracy: 0.8640776699029126\n",
            "Fold 3 precision: 0.8484848484848485\n",
            "Fold 3 recall: 0.9333333333333333\n",
            "Fold 3 f1: 0.888888888888889\n"
          ]
        },
        {
          "output_type": "stream",
          "name": "stderr",
          "text": [
            "/usr/local/lib/python3.10/dist-packages/sklearn/ensemble/_base.py:166: FutureWarning: `base_estimator` was renamed to `estimator` in version 1.2 and will be removed in 1.4.\n",
            "  warnings.warn(\n"
          ]
        },
        {
          "output_type": "stream",
          "name": "stdout",
          "text": [
            "Fold 4 accuracy: 0.7864077669902912\n",
            "Fold 4 precision: 0.7719298245614035\n",
            "Fold 4 recall: 0.8301886792452831\n",
            "Fold 4 f1: 0.8\n"
          ]
        },
        {
          "output_type": "stream",
          "name": "stderr",
          "text": [
            "/usr/local/lib/python3.10/dist-packages/sklearn/ensemble/_base.py:166: FutureWarning: `base_estimator` was renamed to `estimator` in version 1.2 and will be removed in 1.4.\n",
            "  warnings.warn(\n"
          ]
        },
        {
          "output_type": "stream",
          "name": "stdout",
          "text": [
            "Fold 5 accuracy: 0.8349514563106796\n",
            "Fold 5 precision: 0.7910447761194029\n",
            "Fold 5 recall: 0.9464285714285714\n",
            "Fold 5 f1: 0.8617886178861788\n"
          ]
        },
        {
          "output_type": "stream",
          "name": "stderr",
          "text": [
            "/usr/local/lib/python3.10/dist-packages/sklearn/ensemble/_base.py:166: FutureWarning: `base_estimator` was renamed to `estimator` in version 1.2 and will be removed in 1.4.\n",
            "  warnings.warn(\n"
          ]
        },
        {
          "output_type": "stream",
          "name": "stdout",
          "text": [
            "Fold 6 accuracy: 0.8235294117647058\n",
            "Fold 6 precision: 0.8076923076923077\n",
            "Fold 6 recall: 0.84\n",
            "Fold 6 f1: 0.8235294117647058\n"
          ]
        },
        {
          "output_type": "stream",
          "name": "stderr",
          "text": [
            "/usr/local/lib/python3.10/dist-packages/sklearn/ensemble/_base.py:166: FutureWarning: `base_estimator` was renamed to `estimator` in version 1.2 and will be removed in 1.4.\n",
            "  warnings.warn(\n"
          ]
        },
        {
          "output_type": "stream",
          "name": "stdout",
          "text": [
            "Fold 7 accuracy: 0.7058823529411765\n",
            "Fold 7 precision: 0.6610169491525424\n",
            "Fold 7 recall: 0.7959183673469388\n",
            "Fold 7 f1: 0.7222222222222222\n"
          ]
        },
        {
          "output_type": "stream",
          "name": "stderr",
          "text": [
            "/usr/local/lib/python3.10/dist-packages/sklearn/ensemble/_base.py:166: FutureWarning: `base_estimator` was renamed to `estimator` in version 1.2 and will be removed in 1.4.\n",
            "  warnings.warn(\n"
          ]
        },
        {
          "output_type": "stream",
          "name": "stdout",
          "text": [
            "Fold 8 accuracy: 0.7745098039215687\n",
            "Fold 8 precision: 0.7719298245614035\n",
            "Fold 8 recall: 0.8148148148148148\n",
            "Fold 8 f1: 0.7927927927927928\n"
          ]
        },
        {
          "output_type": "stream",
          "name": "stderr",
          "text": [
            "/usr/local/lib/python3.10/dist-packages/sklearn/ensemble/_base.py:166: FutureWarning: `base_estimator` was renamed to `estimator` in version 1.2 and will be removed in 1.4.\n",
            "  warnings.warn(\n"
          ]
        },
        {
          "output_type": "stream",
          "name": "stdout",
          "text": [
            "Fold 9 accuracy: 0.7156862745098039\n",
            "Fold 9 precision: 0.6271186440677966\n",
            "Fold 9 recall: 0.8409090909090909\n",
            "Fold 9 f1: 0.7184466019417475\n"
          ]
        },
        {
          "output_type": "stream",
          "name": "stderr",
          "text": [
            "/usr/local/lib/python3.10/dist-packages/sklearn/ensemble/_base.py:166: FutureWarning: `base_estimator` was renamed to `estimator` in version 1.2 and will be removed in 1.4.\n",
            "  warnings.warn(\n"
          ]
        },
        {
          "output_type": "stream",
          "name": "stdout",
          "text": [
            "Fold 10 accuracy: 0.7647058823529411\n",
            "Fold 10 precision: 0.7719298245614035\n",
            "Fold 10 recall: 0.8\n",
            "Fold 10 f1: 0.7857142857142858\n",
            "\n",
            "Metrics After K-Fold Cross-Validation for SVM-linear:\n",
            "Accuracy = 81.81818181818183\n",
            "Precision = 78.33333333333333\n",
            "Recall = 89.24050632911393\n",
            "F1 = 0.8343195266272189\n",
            "\n",
            "Classification Report After K-Fold Cross-Validation:\n",
            "              precision    recall  f1-score   support\n",
            "\n",
            "           0       0.87      0.74      0.80       150\n",
            "           1       0.78      0.89      0.83       158\n",
            "\n",
            "    accuracy                           0.82       308\n",
            "   macro avg       0.83      0.82      0.82       308\n",
            "weighted avg       0.82      0.82      0.82       308\n",
            "\n"
          ]
        },
        {
          "output_type": "stream",
          "name": "stderr",
          "text": [
            "/usr/local/lib/python3.10/dist-packages/sklearn/base.py:432: UserWarning: X has feature names, but AdaBoostClassifier was fitted without feature names\n",
            "  warnings.warn(\n"
          ]
        }
      ],
      "source": [
        "from sklearn.metrics import f1_score\n",
        "from sklearn.model_selection import KFold\n",
        "\n",
        "svclassifier = SVC(kernel='linear')\n",
        "svclassifier.fit(X_train, np.ravel(Y_train))\n",
        "y_pred = svclassifier.predict(X_test)\n",
        "\n",
        "# Metrics before k-fold cross-validation\n",
        "accuracy_before = accuracy_score(Y_test, y_pred)\n",
        "precision_before = precision_score(Y_test, y_pred)\n",
        "recall_before = recall_score(Y_test, y_pred)\n",
        "f1_before = f1_score(Y_test, y_pred)\n",
        "\n",
        "print(\"Metrics Before K-Fold Cross-Validation for SVM-linear:\")\n",
        "print(\"Accuracy =\", accuracy_before * 100)\n",
        "print(\"Precision =\", precision_before * 100)\n",
        "print(\"Recall =\", recall_before * 100)\n",
        "print(\"F1 =\", f1_before)\n",
        "\n",
        "print(\"\\nBoosting Classifier with K-Fold Validation\")\n",
        "boostclassifier = AdaBoostClassifier(base_estimator=svclassifier, algorithm=\"SAMME\", n_estimators=150)\n",
        "\n",
        "def run_kfold(clf):\n",
        "    kf = KFold(10, shuffle=False)\n",
        "    outcomes_accuracy = []\n",
        "    outcomes_precision = []\n",
        "    outcomes_recall = []\n",
        "    outcomes_f1 = []\n",
        "    fold = 0\n",
        "\n",
        "    for train_index, test_index in kf.split(X):\n",
        "        fold += 1\n",
        "        X_train_fold, X_test_fold = X.values[train_index], X.values[test_index]\n",
        "        y_train_fold, y_test_fold = Y.values[train_index], Y.values[test_index]\n",
        "        clf.fit(X_train_fold, np.ravel(y_train_fold))\n",
        "        predictions = clf.predict(X_test_fold)\n",
        "\n",
        "        accuracy_fold = accuracy_score(y_test_fold, predictions)\n",
        "        precision_fold = precision_score(y_test_fold, predictions)\n",
        "        recall_fold = recall_score(y_test_fold, predictions)\n",
        "        f1_fold = f1_score(y_test_fold, predictions)\n",
        "\n",
        "        outcomes_accuracy.append(accuracy_fold)\n",
        "        outcomes_precision.append(precision_fold)\n",
        "        outcomes_recall.append(recall_fold)\n",
        "        outcomes_f1.append(f1_fold)\n",
        "\n",
        "        print(\"Fold {0} accuracy: {1}\".format(fold, accuracy_fold))\n",
        "        print(\"Fold {0} precision: {1}\".format(fold, precision_fold))\n",
        "        print(\"Fold {0} recall: {1}\".format(fold, recall_fold))\n",
        "        print(\"Fold {0} f1: {1}\".format(fold, f1_fold))\n",
        "\n",
        "    # Metrics after k-fold cross-validation by applying K fold to the entire data in X_test\n",
        "    y_pred_after_cv = clf.predict(X_test)\n",
        "    accuracy_after = accuracy_score(Y_test, y_pred_after_cv)\n",
        "    precision_after = precision_score(Y_test, y_pred_after_cv)\n",
        "    recall_after = recall_score(Y_test, y_pred_after_cv)\n",
        "    f1_after = f1_score(Y_test, y_pred_after_cv)\n",
        "\n",
        "    print(\"\\nMetrics After K-Fold Cross-Validation for SVM-linear:\")\n",
        "    print(\"Accuracy =\", accuracy_after * 100)\n",
        "    print(\"Precision =\", precision_after * 100)\n",
        "    print(\"Recall =\", recall_after * 100)\n",
        "    print(\"F1 =\", f1_after)\n",
        "\n",
        "    # Classification report after k-fold cross-validation\n",
        "    print(\"\\nClassification Report After K-Fold Cross-Validation:\")\n",
        "    print(classification_report(Y_test, y_pred_after_cv))\n",
        "\n",
        "\n",
        "run_kfold(boostclassifier)\n"
      ]
    },
    {
      "cell_type": "markdown",
      "metadata": {
        "id": "FboSpS4_nUuN"
      },
      "source": [
        "KNN with 1 neighbours\n"
      ]
    },
    {
      "cell_type": "code",
      "execution_count": null,
      "metadata": {
        "id": "6NXCvV4YS2mD",
        "colab": {
          "base_uri": "https://localhost:8080/"
        },
        "outputId": "e73e3c5c-dc95-4c09-f23f-1d5e6d92c9fa"
      },
      "outputs": [
        {
          "output_type": "stream",
          "name": "stdout",
          "text": [
            "Metrics Before K-Fold Cross-Validation for KNN-1 neighbor:\n",
            "Accuracy = 99.02597402597402\n",
            "Precision = 98.13664596273291\n",
            "Recall = 100.0\n",
            "F1 = 0.9905956112852665\n",
            "\n",
            "Bagging Classifier with K-Fold Validation\n"
          ]
        },
        {
          "output_type": "stream",
          "name": "stderr",
          "text": [
            "/usr/local/lib/python3.10/dist-packages/sklearn/ensemble/_base.py:166: FutureWarning: `base_estimator` was renamed to `estimator` in version 1.2 and will be removed in 1.4.\n",
            "  warnings.warn(\n"
          ]
        },
        {
          "output_type": "stream",
          "name": "stdout",
          "text": [
            "Fold 1 accuracy: 1.0\n",
            "Fold 1 precision: 1.0\n",
            "Fold 1 recall: 1.0\n",
            "Fold 1 f1: 1.0\n"
          ]
        },
        {
          "output_type": "stream",
          "name": "stderr",
          "text": [
            "/usr/local/lib/python3.10/dist-packages/sklearn/ensemble/_base.py:166: FutureWarning: `base_estimator` was renamed to `estimator` in version 1.2 and will be removed in 1.4.\n",
            "  warnings.warn(\n"
          ]
        },
        {
          "output_type": "stream",
          "name": "stdout",
          "text": [
            "Fold 2 accuracy: 1.0\n",
            "Fold 2 precision: 1.0\n",
            "Fold 2 recall: 1.0\n",
            "Fold 2 f1: 1.0\n"
          ]
        },
        {
          "output_type": "stream",
          "name": "stderr",
          "text": [
            "/usr/local/lib/python3.10/dist-packages/sklearn/ensemble/_base.py:166: FutureWarning: `base_estimator` was renamed to `estimator` in version 1.2 and will be removed in 1.4.\n",
            "  warnings.warn(\n"
          ]
        },
        {
          "output_type": "stream",
          "name": "stdout",
          "text": [
            "Fold 3 accuracy: 1.0\n",
            "Fold 3 precision: 1.0\n",
            "Fold 3 recall: 1.0\n",
            "Fold 3 f1: 1.0\n"
          ]
        },
        {
          "output_type": "stream",
          "name": "stderr",
          "text": [
            "/usr/local/lib/python3.10/dist-packages/sklearn/ensemble/_base.py:166: FutureWarning: `base_estimator` was renamed to `estimator` in version 1.2 and will be removed in 1.4.\n",
            "  warnings.warn(\n"
          ]
        },
        {
          "output_type": "stream",
          "name": "stdout",
          "text": [
            "Fold 4 accuracy: 0.970873786407767\n",
            "Fold 4 precision: 1.0\n",
            "Fold 4 recall: 0.9433962264150944\n",
            "Fold 4 f1: 0.970873786407767\n"
          ]
        },
        {
          "output_type": "stream",
          "name": "stderr",
          "text": [
            "/usr/local/lib/python3.10/dist-packages/sklearn/ensemble/_base.py:166: FutureWarning: `base_estimator` was renamed to `estimator` in version 1.2 and will be removed in 1.4.\n",
            "  warnings.warn(\n"
          ]
        },
        {
          "output_type": "stream",
          "name": "stdout",
          "text": [
            "Fold 5 accuracy: 0.970873786407767\n",
            "Fold 5 precision: 1.0\n",
            "Fold 5 recall: 0.9464285714285714\n",
            "Fold 5 f1: 0.9724770642201834\n"
          ]
        },
        {
          "output_type": "stream",
          "name": "stderr",
          "text": [
            "/usr/local/lib/python3.10/dist-packages/sklearn/ensemble/_base.py:166: FutureWarning: `base_estimator` was renamed to `estimator` in version 1.2 and will be removed in 1.4.\n",
            "  warnings.warn(\n"
          ]
        },
        {
          "output_type": "stream",
          "name": "stdout",
          "text": [
            "Fold 6 accuracy: 1.0\n",
            "Fold 6 precision: 1.0\n",
            "Fold 6 recall: 1.0\n",
            "Fold 6 f1: 1.0\n"
          ]
        },
        {
          "output_type": "stream",
          "name": "stderr",
          "text": [
            "/usr/local/lib/python3.10/dist-packages/sklearn/ensemble/_base.py:166: FutureWarning: `base_estimator` was renamed to `estimator` in version 1.2 and will be removed in 1.4.\n",
            "  warnings.warn(\n"
          ]
        },
        {
          "output_type": "stream",
          "name": "stdout",
          "text": [
            "Fold 7 accuracy: 0.9705882352941176\n",
            "Fold 7 precision: 1.0\n",
            "Fold 7 recall: 0.9387755102040817\n",
            "Fold 7 f1: 0.968421052631579\n"
          ]
        },
        {
          "output_type": "stream",
          "name": "stderr",
          "text": [
            "/usr/local/lib/python3.10/dist-packages/sklearn/ensemble/_base.py:166: FutureWarning: `base_estimator` was renamed to `estimator` in version 1.2 and will be removed in 1.4.\n",
            "  warnings.warn(\n"
          ]
        },
        {
          "output_type": "stream",
          "name": "stdout",
          "text": [
            "Fold 8 accuracy: 1.0\n",
            "Fold 8 precision: 1.0\n",
            "Fold 8 recall: 1.0\n",
            "Fold 8 f1: 1.0\n"
          ]
        },
        {
          "output_type": "stream",
          "name": "stderr",
          "text": [
            "/usr/local/lib/python3.10/dist-packages/sklearn/ensemble/_base.py:166: FutureWarning: `base_estimator` was renamed to `estimator` in version 1.2 and will be removed in 1.4.\n",
            "  warnings.warn(\n"
          ]
        },
        {
          "output_type": "stream",
          "name": "stdout",
          "text": [
            "Fold 9 accuracy: 1.0\n",
            "Fold 9 precision: 1.0\n",
            "Fold 9 recall: 1.0\n",
            "Fold 9 f1: 1.0\n"
          ]
        },
        {
          "output_type": "stream",
          "name": "stderr",
          "text": [
            "/usr/local/lib/python3.10/dist-packages/sklearn/ensemble/_base.py:166: FutureWarning: `base_estimator` was renamed to `estimator` in version 1.2 and will be removed in 1.4.\n",
            "  warnings.warn(\n"
          ]
        },
        {
          "output_type": "stream",
          "name": "stdout",
          "text": [
            "Fold 10 accuracy: 1.0\n",
            "Fold 10 precision: 1.0\n",
            "Fold 10 recall: 1.0\n",
            "Fold 10 f1: 1.0\n"
          ]
        },
        {
          "output_type": "stream",
          "name": "stderr",
          "text": [
            "/usr/local/lib/python3.10/dist-packages/sklearn/base.py:432: UserWarning: X has feature names, but BaggingClassifier was fitted without feature names\n",
            "  warnings.warn(\n"
          ]
        },
        {
          "output_type": "stream",
          "name": "stdout",
          "text": [
            "\n",
            "Metrics After K-Fold Cross-Validation for KNN-1 neighbor:\n",
            "Accuracy = 100.0\n",
            "Precision = 100.0\n",
            "Recall = 100.0\n",
            "F1 = 1.0\n",
            "\n",
            "Classification Report After K-Fold Cross-Validation:\n",
            "              precision    recall  f1-score   support\n",
            "\n",
            "           0       1.00      1.00      1.00       150\n",
            "           1       1.00      1.00      1.00       158\n",
            "\n",
            "    accuracy                           1.00       308\n",
            "   macro avg       1.00      1.00      1.00       308\n",
            "weighted avg       1.00      1.00      1.00       308\n",
            "\n"
          ]
        }
      ],
      "source": [
        "knnclassifier = KNeighborsClassifier(n_neighbors=1)\n",
        "knnclassifier.fit(X_train, np.ravel(Y_train))\n",
        "y_pred_before = knnclassifier.predict(X_test)\n",
        "\n",
        "# Metrics before k-fold cross-validation\n",
        "accuracy_before = accuracy_score(Y_test, y_pred_before)\n",
        "precision_before = precision_score(Y_test, y_pred_before)\n",
        "recall_before = recall_score(Y_test, y_pred_before)\n",
        "f1_before = f1_score(Y_test, y_pred_before)\n",
        "\n",
        "print(\"Metrics Before K-Fold Cross-Validation for KNN-1 neighbor:\")\n",
        "print(\"Accuracy =\", accuracy_before * 100)\n",
        "print(\"Precision =\", precision_before * 100)\n",
        "print(\"Recall =\", recall_before * 100)\n",
        "print(\"F1 =\", f1_before)\n",
        "\n",
        "print(\"\\nBagging Classifier with K-Fold Validation\")\n",
        "baggclassifier = BaggingClassifier(base_estimator=knnclassifier, n_estimators=300)\n",
        "\n",
        "def run_kfold(clf):\n",
        "    kf = KFold(10, shuffle=False)\n",
        "    outcomes_accuracy = []\n",
        "    outcomes_precision = []\n",
        "    outcomes_recall = []\n",
        "    outcomes_f1 = []\n",
        "    fold = 0\n",
        "\n",
        "    for train_index, test_index in kf.split(X):\n",
        "        fold += 1\n",
        "        X_train_fold, X_test_fold = X.values[train_index], X.values[test_index]\n",
        "        y_train_fold, y_test_fold = Y.values[train_index], Y.values[test_index]\n",
        "\n",
        "        clf.fit(X_train_fold, np.ravel(y_train_fold))\n",
        "        predictions = clf.predict(X_test_fold)\n",
        "\n",
        "        accuracy_fold = accuracy_score(y_test_fold, predictions)\n",
        "        precision_fold = precision_score(y_test_fold, predictions)\n",
        "        recall_fold = recall_score(y_test_fold, predictions)\n",
        "        f1_fold = f1_score(y_test_fold, predictions)\n",
        "\n",
        "        outcomes_accuracy.append(accuracy_fold)\n",
        "        outcomes_precision.append(precision_fold)\n",
        "        outcomes_recall.append(recall_fold)\n",
        "        outcomes_f1.append(f1_fold)\n",
        "\n",
        "        print(\"Fold {0} accuracy: {1}\".format(fold, accuracy_fold))\n",
        "        print(\"Fold {0} precision: {1}\".format(fold, precision_fold))\n",
        "        print(\"Fold {0} recall: {1}\".format(fold, recall_fold))\n",
        "        print(\"Fold {0} f1: {1}\".format(fold, f1_fold))\n",
        "\n",
        "    # Metrics after k-fold cross-validation\n",
        "    y_pred_after_cv = clf.predict(X_test)\n",
        "    accuracy_after = accuracy_score(Y_test, y_pred_after_cv)\n",
        "    precision_after = precision_score(Y_test, y_pred_after_cv)\n",
        "    recall_after = recall_score(Y_test, y_pred_after_cv)\n",
        "    f1_after = f1_score(Y_test, y_pred_after_cv)\n",
        "\n",
        "    print(\"\\nMetrics After K-Fold Cross-Validation for KNN-1 neighbor:\")\n",
        "    print(\"Accuracy =\", accuracy_after * 100)\n",
        "    print(\"Precision =\", precision_after * 100)\n",
        "    print(\"Recall =\", recall_after * 100)\n",
        "    print(\"F1 =\", f1_after)\n",
        "\n",
        "    # Classification report after k-fold cross-validation\n",
        "    print(\"\\nClassification Report After K-Fold Cross-Validation:\")\n",
        "    print(classification_report(Y_test, y_pred_after_cv))\n",
        "\n",
        "\n",
        "run_kfold(baggclassifier)\n"
      ]
    },
    {
      "cell_type": "markdown",
      "metadata": {
        "id": "PBvPxnxPxbXY"
      },
      "source": [
        "Decision Tree"
      ]
    },
    {
      "cell_type": "code",
      "execution_count": null,
      "metadata": {
        "id": "so4W8MLsnZgV",
        "colab": {
          "base_uri": "https://localhost:8080/"
        },
        "outputId": "a3cd8fd0-8521-4a56-ff14-a7a49727b1b3"
      },
      "outputs": [
        {
          "output_type": "stream",
          "name": "stdout",
          "text": [
            "Metrics Before K-Fold Cross-Validation for Decision Tree:\n",
            "Accuracy = 100.0\n",
            "Precision = 100.0\n",
            "Recall = 100.0\n",
            "F1 = 1.0\n",
            "\n",
            "Boosting Classifier with K-Fold Validation\n",
            "Fold 1 accuracy: 1.0\n",
            "Fold 1 precision: 1.0\n",
            "Fold 1 recall: 1.0\n",
            "Fold 1 f1: 1.0\n",
            "Fold 2 accuracy: 1.0\n",
            "Fold 2 precision: 1.0\n",
            "Fold 2 recall: 1.0\n",
            "Fold 2 f1: 1.0\n",
            "Fold 3 accuracy: 1.0\n",
            "Fold 3 precision: 1.0\n",
            "Fold 3 recall: 1.0\n",
            "Fold 3 f1: 1.0\n",
            "Fold 4 accuracy: 0.970873786407767\n",
            "Fold 4 precision: 1.0\n",
            "Fold 4 recall: 0.9433962264150944\n",
            "Fold 4 f1: 0.970873786407767\n",
            "Fold 5 accuracy: 0.970873786407767\n",
            "Fold 5 precision: 1.0\n",
            "Fold 5 recall: 0.9464285714285714\n",
            "Fold 5 f1: 0.9724770642201834\n"
          ]
        },
        {
          "output_type": "stream",
          "name": "stderr",
          "text": [
            "/usr/local/lib/python3.10/dist-packages/sklearn/ensemble/_base.py:166: FutureWarning: `base_estimator` was renamed to `estimator` in version 1.2 and will be removed in 1.4.\n",
            "  warnings.warn(\n",
            "/usr/local/lib/python3.10/dist-packages/sklearn/ensemble/_base.py:166: FutureWarning: `base_estimator` was renamed to `estimator` in version 1.2 and will be removed in 1.4.\n",
            "  warnings.warn(\n",
            "/usr/local/lib/python3.10/dist-packages/sklearn/ensemble/_base.py:166: FutureWarning: `base_estimator` was renamed to `estimator` in version 1.2 and will be removed in 1.4.\n",
            "  warnings.warn(\n",
            "/usr/local/lib/python3.10/dist-packages/sklearn/ensemble/_base.py:166: FutureWarning: `base_estimator` was renamed to `estimator` in version 1.2 and will be removed in 1.4.\n",
            "  warnings.warn(\n",
            "/usr/local/lib/python3.10/dist-packages/sklearn/ensemble/_base.py:166: FutureWarning: `base_estimator` was renamed to `estimator` in version 1.2 and will be removed in 1.4.\n",
            "  warnings.warn(\n",
            "/usr/local/lib/python3.10/dist-packages/sklearn/ensemble/_base.py:166: FutureWarning: `base_estimator` was renamed to `estimator` in version 1.2 and will be removed in 1.4.\n",
            "  warnings.warn(\n"
          ]
        },
        {
          "output_type": "stream",
          "name": "stdout",
          "text": [
            "Fold 6 accuracy: 1.0\n",
            "Fold 6 precision: 1.0\n",
            "Fold 6 recall: 1.0\n",
            "Fold 6 f1: 1.0\n",
            "Fold 7 accuracy: 1.0\n",
            "Fold 7 precision: 1.0\n",
            "Fold 7 recall: 1.0\n",
            "Fold 7 f1: 1.0\n",
            "Fold 8 accuracy: 1.0\n",
            "Fold 8 precision: 1.0\n",
            "Fold 8 recall: 1.0\n",
            "Fold 8 f1: 1.0\n",
            "Fold 9 accuracy: 1.0\n",
            "Fold 9 precision: 1.0\n",
            "Fold 9 recall: 1.0\n",
            "Fold 9 f1: 1.0\n",
            "Fold 10 accuracy: 1.0\n",
            "Fold 10 precision: 1.0\n",
            "Fold 10 recall: 1.0\n",
            "Fold 10 f1: 1.0\n",
            "\n",
            "Metrics After K-Fold Cross-Validation for Decision Tree:\n",
            "Accuracy = 100.0\n",
            "Precision = 100.0\n",
            "Recall = 100.0\n",
            "F1 = 1.0\n",
            "\n",
            "Classification Report After K-Fold Cross-Validation:\n",
            "              precision    recall  f1-score   support\n",
            "\n",
            "           0       1.00      1.00      1.00       150\n",
            "           1       1.00      1.00      1.00       158\n",
            "\n",
            "    accuracy                           1.00       308\n",
            "   macro avg       1.00      1.00      1.00       308\n",
            "weighted avg       1.00      1.00      1.00       308\n",
            "\n"
          ]
        },
        {
          "output_type": "stream",
          "name": "stderr",
          "text": [
            "/usr/local/lib/python3.10/dist-packages/sklearn/ensemble/_base.py:166: FutureWarning: `base_estimator` was renamed to `estimator` in version 1.2 and will be removed in 1.4.\n",
            "  warnings.warn(\n",
            "/usr/local/lib/python3.10/dist-packages/sklearn/ensemble/_base.py:166: FutureWarning: `base_estimator` was renamed to `estimator` in version 1.2 and will be removed in 1.4.\n",
            "  warnings.warn(\n",
            "/usr/local/lib/python3.10/dist-packages/sklearn/ensemble/_base.py:166: FutureWarning: `base_estimator` was renamed to `estimator` in version 1.2 and will be removed in 1.4.\n",
            "  warnings.warn(\n",
            "/usr/local/lib/python3.10/dist-packages/sklearn/ensemble/_base.py:166: FutureWarning: `base_estimator` was renamed to `estimator` in version 1.2 and will be removed in 1.4.\n",
            "  warnings.warn(\n",
            "/usr/local/lib/python3.10/dist-packages/sklearn/base.py:432: UserWarning: X has feature names, but AdaBoostClassifier was fitted without feature names\n",
            "  warnings.warn(\n"
          ]
        }
      ],
      "source": [
        "dtclassifier = DecisionTreeClassifier()\n",
        "dtclassifier.fit(X_train, np.ravel(Y_train))\n",
        "y_pred_before = dtclassifier.predict(X_test)\n",
        "\n",
        "# Metrics before k-fold cross-validation\n",
        "accuracy_before = accuracy_score(Y_test, y_pred_before)\n",
        "precision_before = precision_score(Y_test, y_pred_before)\n",
        "recall_before = recall_score(Y_test, y_pred_before)\n",
        "f1_before = f1_score(Y_test, y_pred_before)\n",
        "\n",
        "print(\"Metrics Before K-Fold Cross-Validation for Decision Tree:\")\n",
        "print(\"Accuracy =\", accuracy_before * 100)\n",
        "print(\"Precision =\", precision_before * 100)\n",
        "print(\"Recall =\", recall_before * 100)\n",
        "print(\"F1 =\", f1_before)\n",
        "\n",
        "print(\"\\nBoosting Classifier with K-Fold Validation\")\n",
        "boostclassifier = AdaBoostClassifier(base_estimator=dtclassifier, algorithm=\"SAMME\", n_estimators=50)\n",
        "\n",
        "def run_kfold(clf):\n",
        "    kf = KFold(10, shuffle=False)\n",
        "    outcomes_accuracy = []\n",
        "    outcomes_precision = []\n",
        "    outcomes_recall = []\n",
        "    outcomes_f1 = []\n",
        "    fold = 0\n",
        "\n",
        "    for train_index, test_index in kf.split(X):\n",
        "        fold += 1\n",
        "        X_train_fold, X_test_fold = X.values[train_index], X.values[test_index]\n",
        "        y_train_fold, y_test_fold = Y.values[train_index], Y.values[test_index]\n",
        "\n",
        "        clf.fit(X_train_fold, np.ravel(y_train_fold))\n",
        "        predictions = clf.predict(X_test_fold)\n",
        "\n",
        "        accuracy_fold = accuracy_score(y_test_fold, predictions)\n",
        "        precision_fold = precision_score(y_test_fold, predictions)\n",
        "        recall_fold = recall_score(y_test_fold, predictions)\n",
        "        f1_fold = f1_score(y_test_fold, predictions)\n",
        "\n",
        "        outcomes_accuracy.append(accuracy_fold)\n",
        "        outcomes_precision.append(precision_fold)\n",
        "        outcomes_recall.append(recall_fold)\n",
        "        outcomes_f1.append(f1_fold)\n",
        "\n",
        "        print(\"Fold {0} accuracy: {1}\".format(fold, accuracy_fold))\n",
        "        print(\"Fold {0} precision: {1}\".format(fold, precision_fold))\n",
        "        print(\"Fold {0} recall: {1}\".format(fold, recall_fold))\n",
        "        print(\"Fold {0} f1: {1}\".format(fold, f1_fold))\n",
        "\n",
        "    # Metrics after k-fold cross-validation\n",
        "    y_pred_after_cv = clf.predict(X_test)\n",
        "    accuracy_after = accuracy_score(Y_test, y_pred_after_cv)\n",
        "    precision_after = precision_score(Y_test, y_pred_after_cv)\n",
        "    recall_after = recall_score(Y_test, y_pred_after_cv)\n",
        "    f1_after = f1_score(Y_test, y_pred_after_cv)\n",
        "\n",
        "    print(\"\\nMetrics After K-Fold Cross-Validation for Decision Tree:\")\n",
        "    print(\"Accuracy =\", accuracy_after * 100)\n",
        "    print(\"Precision =\", precision_after * 100)\n",
        "    print(\"Recall =\", recall_after * 100)\n",
        "    print(\"F1 =\", f1_after)\n",
        "\n",
        "    # Classification report after k-fold cross-validation\n",
        "    print(\"\\nClassification Report After K-Fold Cross-Validation:\")\n",
        "    print(classification_report(Y_test, y_pred_after_cv))\n",
        "\n",
        "run_kfold(boostclassifier)\n"
      ]
    },
    {
      "cell_type": "markdown",
      "metadata": {
        "id": "oWp_mYLWx1vm"
      },
      "source": [
        "Logistic Regression"
      ]
    },
    {
      "cell_type": "code",
      "execution_count": null,
      "metadata": {
        "id": "0lu5eJkroNkg",
        "colab": {
          "base_uri": "https://localhost:8080/"
        },
        "outputId": "96cbedd5-d304-49b1-cbd4-ad7267de2519"
      },
      "outputs": [
        {
          "output_type": "stream",
          "name": "stdout",
          "text": [
            "Metrics Before K-Fold Cross-Validation for Logistic Regression:\n",
            "Accuracy = 85.3896103896104\n",
            "Precision = 82.65895953757226\n",
            "Recall = 90.50632911392405\n",
            "F1 = 0.86404833836858\n",
            "\n",
            "Boosting Classifier with K-Fold Validation\n",
            "Fold 1 accuracy: 0.8543689320388349\n",
            "Fold 1 precision: 0.8301886792452831\n",
            "Fold 1 recall: 0.88\n",
            "Fold 1 f1: 0.8543689320388349\n",
            "Fold 2 accuracy: 0.8737864077669902\n",
            "Fold 2 precision: 0.875\n",
            "Fold 2 recall: 0.8909090909090909\n",
            "Fold 2 f1: 0.8828828828828829\n",
            "Fold 3 accuracy: 0.8446601941747572\n",
            "Fold 3 precision: 0.8793103448275862\n",
            "Fold 3 recall: 0.85\n",
            "Fold 3 f1: 0.864406779661017\n",
            "Fold 4 accuracy: 0.8446601941747572\n",
            "Fold 4 precision: 0.8627450980392157\n",
            "Fold 4 recall: 0.8301886792452831\n",
            "Fold 4 f1: 0.8461538461538461\n",
            "Fold 5 accuracy: 0.8349514563106796\n",
            "Fold 5 precision: 0.819672131147541\n",
            "Fold 5 recall: 0.8928571428571429\n",
            "Fold 5 f1: 0.8547008547008548\n",
            "Fold 6 accuracy: 0.8921568627450981\n",
            "Fold 6 precision: 0.9148936170212766\n",
            "Fold 6 recall: 0.86\n",
            "Fold 6 f1: 0.8865979381443299\n",
            "Fold 7 accuracy: 0.7647058823529411\n",
            "Fold 7 precision: 0.7551020408163265\n",
            "Fold 7 recall: 0.7551020408163265\n",
            "Fold 7 f1: 0.7551020408163265\n",
            "Fold 8 accuracy: 0.8235294117647058\n",
            "Fold 8 precision: 0.8214285714285714\n",
            "Fold 8 recall: 0.8518518518518519\n",
            "Fold 8 f1: 0.8363636363636364\n",
            "Fold 9 accuracy: 0.7450980392156863\n",
            "Fold 9 precision: 0.6730769230769231\n",
            "Fold 9 recall: 0.7954545454545454\n",
            "Fold 9 f1: 0.7291666666666666\n",
            "Fold 10 accuracy: 0.7647058823529411\n",
            "Fold 10 precision: 0.7924528301886793\n",
            "Fold 10 recall: 0.7636363636363637\n",
            "Fold 10 f1: 0.7777777777777778\n",
            "\n",
            "Metrics After K-Fold Cross-Validation for Logistic Regression:\n",
            "Accuracy = 84.0909090909091\n",
            "Precision = 81.5028901734104\n",
            "Recall = 89.24050632911393\n",
            "F1 = 0.851963746223565\n",
            "\n",
            "Classification Report After K-Fold Cross-Validation:\n",
            "              precision    recall  f1-score   support\n",
            "\n",
            "           0       0.87      0.79      0.83       150\n",
            "           1       0.82      0.89      0.85       158\n",
            "\n",
            "    accuracy                           0.84       308\n",
            "   macro avg       0.84      0.84      0.84       308\n",
            "weighted avg       0.84      0.84      0.84       308\n",
            "\n"
          ]
        }
      ],
      "source": [
        "warnings.filterwarnings(\"ignore\")\n",
        "\n",
        "lcclassifier = LogisticRegression(C=1.0, max_iter=100, penalty='l2')\n",
        "\n",
        "\n",
        "lcclassifier.fit(X_train, np.ravel(Y_train))\n",
        "y_pred_before = lcclassifier.predict(X_test)\n",
        "\n",
        "# Metrics before k-fold cross-validation\n",
        "accuracy_before = accuracy_score(Y_test, y_pred_before)\n",
        "precision_before = precision_score(Y_test, y_pred_before)\n",
        "recall_before = recall_score(Y_test, y_pred_before)\n",
        "f1_before = f1_score(Y_test, y_pred_before)\n",
        "\n",
        "print(\"Metrics Before K-Fold Cross-Validation for Logistic Regression:\")\n",
        "print(\"Accuracy =\", accuracy_before * 100)\n",
        "print(\"Precision =\", precision_before * 100)\n",
        "print(\"Recall =\", recall_before * 100)\n",
        "print(\"F1 =\", f1_before)\n",
        "\n",
        "print(\"\\nBoosting Classifier with K-Fold Validation\")\n",
        "boostclassifier = AdaBoostClassifier(base_estimator=lcclassifier, algorithm=\"SAMME\", n_estimators=150 )\n",
        "\n",
        "def run_kfold(clf):\n",
        "    kf = KFold(10, shuffle=False)\n",
        "    outcomes_accuracy = []\n",
        "    outcomes_precision = []\n",
        "    outcomes_recall = []\n",
        "    outcomes_f1 = []\n",
        "    fold = 0\n",
        "\n",
        "    for train_index, test_index in kf.split(X):\n",
        "        fold += 1\n",
        "        X_train_fold, X_test_fold = X.values[train_index], X.values[test_index]\n",
        "        y_train_fold, y_test_fold = Y.values[train_index], Y.values[test_index]\n",
        "\n",
        "        clf.fit(X_train_fold, np.ravel(y_train_fold))\n",
        "        predictions = clf.predict(X_test_fold)\n",
        "\n",
        "        accuracy_fold = accuracy_score(y_test_fold, predictions)\n",
        "        precision_fold = precision_score(y_test_fold, predictions)\n",
        "        recall_fold = recall_score(y_test_fold, predictions)\n",
        "        f1_fold = f1_score(y_test_fold, predictions)\n",
        "\n",
        "        outcomes_accuracy.append(accuracy_fold)\n",
        "        outcomes_precision.append(precision_fold)\n",
        "        outcomes_recall.append(recall_fold)\n",
        "        outcomes_f1.append(f1_fold)\n",
        "\n",
        "        print(\"Fold {0} accuracy: {1}\".format(fold, accuracy_fold))\n",
        "        print(\"Fold {0} precision: {1}\".format(fold, precision_fold))\n",
        "        print(\"Fold {0} recall: {1}\".format(fold, recall_fold))\n",
        "        print(\"Fold {0} f1: {1}\".format(fold, f1_fold))\n",
        "\n",
        "    # Metrics after k-fold cross-validation\n",
        "    y_pred_after_cv = clf.predict(X_test)\n",
        "    accuracy_after = accuracy_score(Y_test, y_pred_after_cv)\n",
        "    precision_after = precision_score(Y_test, y_pred_after_cv)\n",
        "    recall_after = recall_score(Y_test, y_pred_after_cv)\n",
        "    f1_after = f1_score(Y_test, y_pred_after_cv)\n",
        "\n",
        "    print(\"\\nMetrics After K-Fold Cross-Validation for Logistic Regression:\")\n",
        "    print(\"Accuracy =\", accuracy_after * 100)\n",
        "    print(\"Precision =\", precision_after * 100)\n",
        "    print(\"Recall =\", recall_after * 100)\n",
        "    print(\"F1 =\", f1_after)\n",
        "\n",
        "    # Classification report after k-fold cross-validation\n",
        "    print(\"\\nClassification Report After K-Fold Cross-Validation:\")\n",
        "    print(classification_report(Y_test, y_pred_after_cv))\n",
        "\n",
        "run_kfold(boostclassifier)\n"
      ]
    },
    {
      "cell_type": "markdown",
      "metadata": {
        "id": "ZXRyQdrtx-JG"
      },
      "source": [
        "Random Forest"
      ]
    },
    {
      "cell_type": "code",
      "execution_count": null,
      "metadata": {
        "id": "8obLN7kwsXVJ",
        "colab": {
          "base_uri": "https://localhost:8080/"
        },
        "outputId": "372e22b3-9e15-4872-b16c-de5eb4d4175d"
      },
      "outputs": [
        {
          "output_type": "stream",
          "name": "stdout",
          "text": [
            "Random Forest Classifier Metrics for Random Forest:\n",
            "Accuracy = 100.0\n",
            "Precision = 100.0\n",
            "Recall = 100.0\n",
            "F1 = 1.0\n",
            "Sensitivity = 1.0\n",
            "Specificity = 0.0\n",
            "Fold 1 accuracy: 1.0\n",
            "Fold 1 precision: 1.0\n",
            "Fold 1 recall: 1.0\n",
            "Fold 1 f1: 1.0\n",
            "Fold 2 accuracy: 1.0\n",
            "Fold 2 precision: 1.0\n",
            "Fold 2 recall: 1.0\n",
            "Fold 2 f1: 1.0\n",
            "Fold 3 accuracy: 1.0\n",
            "Fold 3 precision: 1.0\n",
            "Fold 3 recall: 1.0\n",
            "Fold 3 f1: 1.0\n",
            "Fold 4 accuracy: 1.0\n",
            "Fold 4 precision: 1.0\n",
            "Fold 4 recall: 1.0\n",
            "Fold 4 f1: 1.0\n",
            "Fold 5 accuracy: 1.0\n",
            "Fold 5 precision: 1.0\n",
            "Fold 5 recall: 1.0\n",
            "Fold 5 f1: 1.0\n",
            "Fold 6 accuracy: 1.0\n",
            "Fold 6 precision: 1.0\n",
            "Fold 6 recall: 1.0\n",
            "Fold 6 f1: 1.0\n",
            "Fold 7 accuracy: 1.0\n",
            "Fold 7 precision: 1.0\n",
            "Fold 7 recall: 1.0\n",
            "Fold 7 f1: 1.0\n",
            "Fold 8 accuracy: 1.0\n",
            "Fold 8 precision: 1.0\n",
            "Fold 8 recall: 1.0\n",
            "Fold 8 f1: 1.0\n",
            "Fold 9 accuracy: 0.9705882352941176\n",
            "Fold 9 precision: 0.9361702127659575\n",
            "Fold 9 recall: 1.0\n",
            "Fold 9 f1: 0.967032967032967\n",
            "Fold 10 accuracy: 1.0\n",
            "Fold 10 precision: 1.0\n",
            "Fold 10 recall: 1.0\n",
            "Fold 10 f1: 1.0\n",
            "\n",
            "Metrics After K-Fold Cross-Validation for Random Forest:\n",
            "Accuracy = 100.0\n",
            "Precision = 100.0\n",
            "Recall = 100.0\n",
            "F1 = 1.0\n",
            "\n",
            "Classification Report After K-Fold Cross-Validation:\n",
            "              precision    recall  f1-score   support\n",
            "\n",
            "           0       1.00      1.00      1.00       150\n",
            "           1       1.00      1.00      1.00       158\n",
            "\n",
            "    accuracy                           1.00       308\n",
            "   macro avg       1.00      1.00      1.00       308\n",
            "weighted avg       1.00      1.00      1.00       308\n",
            "\n"
          ]
        }
      ],
      "source": [
        "# Random Forest Classifier\n",
        "rfclassifier = RandomForestClassifier()\n",
        "rfclassifier.fit(X_train, np.ravel(Y_train))\n",
        "y_pred_rf = rfclassifier.predict(X_test)\n",
        "\n",
        "# Metrics for Random Forest Classifier\n",
        "accuracy_rf = accuracy_score(Y_test, y_pred_rf)\n",
        "precision_rf = precision_score(Y_test, y_pred_rf)\n",
        "recall_rf = recall_score(Y_test, y_pred_rf)\n",
        "f1_rf = 2 * (precision_rf * recall_rf) / (precision_rf + recall_rf)\n",
        "cm_rf = confusion_matrix(Y_test, y_pred_rf)\n",
        "sensitivity_rf = cm_rf[0, 0] / (cm_rf[0, 0] + cm_rf[0, 1])\n",
        "specificity_rf = cm_rf[1, 0] / (cm_rf[1, 0] + cm_rf[1, 1])\n",
        "\n",
        "print(\"Random Forest Classifier Metrics for Random Forest:\")\n",
        "print(\"Accuracy =\", accuracy_rf * 100)\n",
        "print(\"Precision =\", precision_rf * 100)\n",
        "print(\"Recall =\", recall_rf * 100)\n",
        "print(\"F1 =\", f1_rf)\n",
        "print(\"Sensitivity =\", sensitivity_rf)\n",
        "print(\"Specificity =\", specificity_rf)\n",
        "\n",
        "# Boosting Classifier with Random Forest\n",
        "boostclassifier_rf = AdaBoostClassifier(base_estimator=rfclassifier, algorithm=\"SAMME\", n_estimators=150)\n",
        "\n",
        "def run_kfold(clf):\n",
        "    kf = KFold(10, shuffle=False)\n",
        "    outcomes_accuracy = []\n",
        "    outcomes_precision = []\n",
        "    outcomes_recall = []\n",
        "    outcomes_f1 = []\n",
        "    fold = 0\n",
        "\n",
        "    for train_index, test_index in kf.split(X):\n",
        "        fold += 1\n",
        "        X_train_fold, X_test_fold = X.values[train_index], X.values[test_index]\n",
        "        y_train_fold, y_test_fold = Y.values[train_index], Y.values[test_index]\n",
        "        clf.fit(X_train_fold, np.ravel(y_train_fold))\n",
        "        predictions_fold = clf.predict(X_test_fold)\n",
        "\n",
        "        accuracy_fold = accuracy_score(y_test_fold, predictions_fold)\n",
        "        precision_fold = precision_score(y_test_fold, predictions_fold)\n",
        "        recall_fold = recall_score(y_test_fold, predictions_fold)\n",
        "        f1_fold = 2 * (precision_fold * recall_fold) / (precision_fold + recall_fold)\n",
        "\n",
        "        outcomes_accuracy.append(accuracy_fold)\n",
        "        outcomes_precision.append(precision_fold)\n",
        "        outcomes_recall.append(recall_fold)\n",
        "        outcomes_f1.append(f1_fold)\n",
        "\n",
        "        print(\"Fold {0} accuracy: {1}\".format(fold, accuracy_fold))\n",
        "        print(\"Fold {0} precision: {1}\".format(fold, precision_fold))\n",
        "        print(\"Fold {0} recall: {1}\".format(fold, recall_fold))\n",
        "        print(\"Fold {0} f1: {1}\".format(fold, f1_fold))\n",
        "\n",
        "    # Metrics after k-fold cross-validation\n",
        "    y_pred_after_cv = clf.predict(X_test)\n",
        "    accuracy_after = accuracy_score(Y_test, y_pred_after_cv)\n",
        "    precision_after = precision_score(Y_test, y_pred_after_cv)\n",
        "    recall_after = recall_score(Y_test, y_pred_after_cv)\n",
        "    f1_after = 2 * (precision_after * recall_after) / (precision_after + recall_after)\n",
        "\n",
        "    print(\"\\nMetrics After K-Fold Cross-Validation for Random Forest:\")\n",
        "    print(\"Accuracy =\", accuracy_after * 100)\n",
        "    print(\"Precision =\", precision_after * 100)\n",
        "    print(\"Recall =\", recall_after * 100)\n",
        "    print(\"F1 =\", f1_after)\n",
        "\n",
        "    # Classification report after k-fold cross-validation\n",
        "    print(\"\\nClassification Report After K-Fold Cross-Validation:\")\n",
        "    print(classification_report(Y_test, y_pred_after_cv))\n",
        "\n",
        "\n",
        "run_kfold(boostclassifier_rf)\n"
      ]
    },
    {
      "cell_type": "code",
      "execution_count": null,
      "metadata": {
        "id": "YmYoeosK_z9T",
        "colab": {
          "base_uri": "https://localhost:8080/",
          "height": 296
        },
        "outputId": "c7ebb184-c72d-4710-e77e-9e2dd8c2903a"
      },
      "outputs": [
        {
          "output_type": "display_data",
          "data": {
            "text/plain": [
              "<Figure size 2500x600 with 1 Axes>"
            ],
            "image/png": "[encoded data removed]"
          },
          "metadata": {}
        }
      ],
      "source": [
        "classifiers = ['Support Vector (kernel=linear)', 'K-Nearest Neighbors', 'Decision Tree', 'Logistic Regression', 'Random Forest']\n",
        "accuracies = [84.42, 99.02, 100, 84.74, 100]\n",
        "\n",
        "colors = ['#1f77b4', '#ff7f0e', '#2ca02c', '#9467bd', '#8c564b']\n",
        "\n",
        "sorted_classifiers, sorted_accuracies = zip(*sorted(zip(classifiers, accuracies), key=lambda x: x[1]))\n",
        "\n",
        "fig, ax = plt.subplots(figsize=(25, 6))\n",
        "bars = ax.barh(sorted_classifiers, sorted_accuracies, color=colors, height=0.5)\n",
        "\n",
        "for bar, value in zip(bars, sorted_accuracies):\n",
        "    ax.text(bar.get_width() + 1, bar.get_y() + bar.get_height() / 2 - 0.10, f'{value:.2f}%', va='center_baseline', fontsize=10)\n",
        "\n",
        "ax.set_xlabel(\"Accuracy (%)\")\n",
        "ax.set_title(\"Classifiers and their Accuracies\")\n",
        "\n",
        "plt.show()\n"
      ]
    }
  ],
  "metadata": {
    "accelerator": "GPU",
    "colab": {
      "gpuType": "T4",
      "provenance": []
    },
    "kernelspec": {
      "display_name": "Python 3",
      "name": "python3"
    },
    "language_info": {
      "name": "python"
    }
  },
  "nbformat": 4,
  "nbformat_minor": 0
}